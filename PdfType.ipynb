{
 "cells": [
  {
   "cell_type": "markdown",
   "metadata": {},
   "source": [
    "# Nature du PDF: verifié si le PDF est Scanner ou redigé numériquement"
   ]
  },
  {
   "cell_type": "code",
   "execution_count": null,
   "metadata": {},
   "outputs": [],
   "source": [
    "import pdfplumber"
   ]
  },
  {
   "cell_type": "code",
   "execution_count": 10,
   "metadata": {},
   "outputs": [],
   "source": [
    "def is_pdf_scanned(pdf_path):\n",
    "    with pdfplumber.open(pdf_path) as pdf:\n",
    "        for page in pdf.pages:\n",
    "            text = page.extract_text()\n",
    "            if text and text.strip():  # Si du texte est détecté\n",
    "                return False  # Le PDF contient du texte, donc il est rédigé\n",
    "    return True  # Aucun texte extrait, donc probablement un scan\n",
    "\n"
   ]
  },
  {
   "cell_type": "markdown",
   "metadata": {},
   "source": [
    "# Vérification"
   ]
  },
  {
   "cell_type": "code",
   "execution_count": null,
   "metadata": {},
   "outputs": [],
   "source": [
    "# Chemin du fichier PDF\n",
    "pdf_path = \"docu.pdf\"\n"
   ]
  },
  {
   "cell_type": "code",
   "execution_count": null,
   "metadata": {},
   "outputs": [
    {
     "name": "stdout",
     "output_type": "stream",
     "text": [
      "PDF est rédigé (texte sélectionnable)\n"
     ]
    }
   ],
   "source": [
    "\n",
    "# Vérification\n",
    "if is_pdf_scanned(pdf_path):\n",
    "    print(\"Le PDF est scanné (nécessite OCR)\")\n",
    "else:\n",
    "    print(\"PDF est rédigé (texte sélectionnable)\")\n"
   ]
  },
  {
   "cell_type": "markdown",
   "metadata": {},
   "source": [
    "## Si document scanné"
   ]
  },
  {
   "cell_type": "code",
   "execution_count": 5,
   "metadata": {},
   "outputs": [],
   "source": [
    "import pytesseract\n",
    "from pdf2image import convert_from_path\n",
    "import cv2\n",
    "import numpy as np\n"
   ]
  },
  {
   "cell_type": "code",
   "execution_count": 7,
   "metadata": {},
   "outputs": [],
   "source": [
    "# Fonction de conversion\n",
    "def ocr_pdf(pdf_path):\n",
    "    images = convert_from_path(pdf_path)  # Convertir PDF en images\n",
    "    text = \"\"\n",
    "    \n",
    "    for img in images:\n",
    "        img_cv = np.array(img)  # Convertir PIL en OpenCV\n",
    "        text += pytesseract.image_to_string(img_cv, lang=\"fra\") + \"\\n\"  # OCR en français\n",
    "\n",
    "    return text\n",
    "\n"
   ]
  },
  {
   "cell_type": "markdown",
   "metadata": {},
   "source": [
    "### Application"
   ]
  },
  {
   "cell_type": "code",
   "execution_count": 8,
   "metadata": {},
   "outputs": [
    {
     "name": "stdout",
     "output_type": "stream",
     "text": [
      "Extraction normale possible, pas besoin d'OCR\n"
     ]
    }
   ],
   "source": [
    "\n",
    "# Extraction OCR si le PDF est scanné\n",
    "if is_pdf_scanned(pdf_path):\n",
    "    extracted_text = ocr_pdf(pdf_path)\n",
    "    print(\"Texte OCR extrait :\", extracted_text[:500])  # Afficher un extrait du texte\n",
    "else:\n",
    "    print(\"Extraction normale possible, pas besoin d'OCR\")\n"
   ]
  },
  {
   "cell_type": "code",
   "execution_count": null,
   "metadata": {},
   "outputs": [],
   "source": []
  }
 ],
 "metadata": {
  "kernelspec": {
   "display_name": "optiEnv",
   "language": "python",
   "name": "python3"
  },
  "language_info": {
   "codemirror_mode": {
    "name": "ipython",
    "version": 3
   },
   "file_extension": ".py",
   "mimetype": "text/x-python",
   "name": "python",
   "nbconvert_exporter": "python",
   "pygments_lexer": "ipython3",
   "version": "3.12.9"
  }
 },
 "nbformat": 4,
 "nbformat_minor": 2
}
