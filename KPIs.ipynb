{
 "cells": [
  {
   "cell_type": "markdown",
   "metadata": {},
   "source": [
    "# Dictionnaire des KPIs"
   ]
  },
  {
   "cell_type": "code",
   "execution_count": 2,
   "metadata": {},
   "outputs": [],
   "source": [
    "gouvernance = {\n",
    "    \"Conseils\": {\n",
    "        \"Conseil d'Administration\": None,\n",
    "        \"Conseil de Surveillance\": None\n",
    "    },\n",
    "    \"Comités Permanents\": {\n",
    "        \"Comité d'Audit\": None,\n",
    "        \"Comité Nominations et des Rémunérations\": None,\n",
    "        \"Comité RSE\": None,\n",
    "        \"Comité Stratégique\": None,\n",
    "        \"Autre\": None\n",
    "    },\n",
    "    \"Nombre d'Administrateurs\": None,  # À extraire\n",
    "    \"Montant total de l'enveloppe\": None  # À extraire\n",
    "}\n",
    "\n"
   ]
  },
  {
   "cell_type": "code",
   "execution_count": 3,
   "metadata": {},
   "outputs": [],
   "source": [
    "remuneration_fixe = {\n",
    "    \"Président\": {\n",
    "        \"Global\": None,\n",
    "        \"Comité d'Audit\": None,\n",
    "        \"Comité des Rémunérations\": None,\n",
    "        \"Comité Stratégique\": None,\n",
    "        \"Comité RSE\": None\n",
    "    },\n",
    "    \"Membre\": {\n",
    "        \"Comité d'Audit\": None,\n",
    "        \"Comité des Rémunérations\": None,\n",
    "        \"Comité Stratégique\": None,\n",
    "        \"Comité RSE\": None\n",
    "    }\n",
    "}\n"
   ]
  },
  {
   "cell_type": "code",
   "execution_count": 4,
   "metadata": {},
   "outputs": [],
   "source": [
    "remuneration_variable = {\n",
    "    \"Président\": {\n",
    "        \"Global\": None,\n",
    "        \"Comité d'Audit\": None,\n",
    "        \"Comité des Rémunérations\": None,\n",
    "        \"Comité Stratégique\": None,\n",
    "        \"Comité RSE\": None\n",
    "    },\n",
    "    \"Membre\": {\n",
    "        \"Comité d'Audit\": None,\n",
    "        \"Comité des Rémunérations\": None,\n",
    "        \"Comité Stratégique\": None,\n",
    "        \"Comité RSE\": None\n",
    "    }\n",
    "}\n"
   ]
  },
  {
   "cell_type": "code",
   "execution_count": 5,
   "metadata": {},
   "outputs": [],
   "source": [
    "regles_specifiques = {\n",
    "    \"Non Résidents\": None,\n",
    "    \"Téléphone\": None\n",
    "}\n"
   ]
  },
  {
   "cell_type": "code",
   "execution_count": 6,
   "metadata": {},
   "outputs": [],
   "source": [
    "frequence_reunions = {\n",
    "    \"Conseil d'Administration / Conseil de Surveillance\": None,\n",
    "    \"Comité d'Audit\": None,\n",
    "    \"Comité des Rémunérations\": None,\n",
    "    \"Comité Stratégique\": None,\n",
    "    \"Comité RSE\": None\n",
    "}\n"
   ]
  },
  {
   "cell_type": "code",
   "execution_count": 7,
   "metadata": {},
   "outputs": [],
   "source": [
    "remuneration_responsabilite = {\n",
    "    \"Montant\": None  # À extraire\n",
    "}\n"
   ]
  },
  {
   "cell_type": "markdown",
   "metadata": {},
   "source": [
    "## Regroupement des Dictionnaires"
   ]
  },
  {
   "cell_type": "code",
   "execution_count": 8,
   "metadata": {},
   "outputs": [],
   "source": [
    "kpi_gouvernance = {\n",
    "    \"Gouvernance\": gouvernance,\n",
    "    \"Rémunération Fixe\": remuneration_fixe,\n",
    "    \"Rémunération Variable\": remuneration_variable,\n",
    "    \"Règles Spécifiques\": regles_specifiques,\n",
    "    \"Fréquence Réunions\": frequence_reunions,\n",
    "    \"Rémunération par Responsabilité\": remuneration_responsabilite\n",
    "}\n",
    "\n"
   ]
  },
  {
   "cell_type": "code",
   "execution_count": null,
   "metadata": {},
   "outputs": [],
   "source": [
    "#kpi_gouvernance"
   ]
  },
  {
   "cell_type": "markdown",
   "metadata": {},
   "source": [
    "## Enregistrement du dictionnaire en JSON"
   ]
  },
  {
   "cell_type": "code",
   "execution_count": 9,
   "metadata": {},
   "outputs": [],
   "source": [
    "import json\n",
    "\n",
    "# Nom du fichier\n",
    "json_filename = \"KPIs.json\"\n",
    "\n",
    "# 📌 Sauvegarde du dictionnaire en fichier JSON\n",
    "with open(json_filename, \"w\", encoding=\"utf-8\") as json_file:\n",
    "    json.dump(kpi_gouvernance, json_file, indent=4, ensure_ascii=False)\n",
    "\n"
   ]
  },
  {
   "cell_type": "code",
   "execution_count": null,
   "metadata": {},
   "outputs": [],
   "source": []
  }
 ],
 "metadata": {
  "kernelspec": {
   "display_name": "venv",
   "language": "python",
   "name": "python3"
  },
  "language_info": {
   "codemirror_mode": {
    "name": "ipython",
    "version": 3
   },
   "file_extension": ".py",
   "mimetype": "text/x-python",
   "name": "python",
   "nbconvert_exporter": "python",
   "pygments_lexer": "ipython3",
   "version": "3.12.9"
  }
 },
 "nbformat": 4,
 "nbformat_minor": 2
}
